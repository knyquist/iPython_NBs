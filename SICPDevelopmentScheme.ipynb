{
 "metadata": {
  "name": ""
 },
 "nbformat": 3,
 "nbformat_minor": 0,
 "worksheets": [
  {
   "cells": [
    {
     "cell_type": "markdown",
     "metadata": {},
     "source": [
      "# Development scheme\n",
      "\n",
      "----\n",
      "\n",
      "## Classes\n",
      "__Trace:__\n",
      "* time \n",
      "* force\n",
      "* position\n",
      "\n",
      "This should be populated with an input file. There will one object of this class per run.\n",
      "\n",
      "__Slices:__\n",
      "* start and end of each \"slice\", done by force interval (recorded by index...taken from trace)\n",
      "* force, mean force of each slice interval\n",
      "* params (definition: respective $\\nu$ and $S_o$ for each slice)\n",
      "\n",
      "This should be populated with input file, containing entire range of possible parameters. There will be one object of this class per run\n",
      "\n",
      "__Fit:__\n",
      "* start and end of each dwell (by index...taken from trace)\n",
      "* position of each dwell \n",
      "* force of each dwell (to ID which slice and therefore which {$\\nu$, $S_o$})\n",
      "* slice ID of each dwell (will sort on this to do SICP calculation)\n",
      "\n",
      "This is iterated, we will converge on optimal fit by minimizing SICP (separate class, see below). Many objects of this class.\n",
      "\n",
      "__SICP:__\n",
      "* $\\hat{\\sigma}^2_i$, variance of the data points attached to each $i^{th}$ dwell\n",
      "* $n_i$, number of data points of each $i^{th}$ dwell\n",
      "* $\\hat{\\sigma}^2$ overall variance of the data points in entire slice\n",
      "* number of steps per slice, $d_k$\n",
      "* SICP for each slice and \n",
      "* sum of SICPs to characterize entire fit\n",
      "\n",
      "This is iterated, we will converge on the optimal fit by minimizing SICP. Many objects of this class.\n",
      "\n",
      "----\n",
      "\n",
      "_NOTE: I just realized that each slice has to have one dwell start. Our initial proposed fit will have as many dwells as there are slices. If we don't do this, the SICP becomes undefined for the slices that don't yet have a dwell._\n",
      "\n",
      "_After we do this, we can just proceed as normal, adding one step at a time (checking all possibilities during each addition and selecting the optimal one)._\n",
      "\n",
      "----\n",
      "\n",
      "## Inputs\n",
      "Two files:\n",
      "* trace, which has three columns: time, force, position\n",
      "* slice parameters, which has four columns: start force, end force, $\\nu$, $S_o$\n",
      "\n",
      "## Program function\n",
      "1. Input the trace into the trace object (see __Trace Class__ for format)\n",
      "2. Slice up the trace into the slice object (see __Slice Class__ for format)\n",
      "3. Generate initial fit (one dwell per slice, optimize location by minimizing SICP)\n",
      "4. Fit additional steps until SICP is converged\n",
      "    * Add additional steps one at a time, selecting best location by minimizing SICP. \n",
      "    * Keep track of the slices, and factor in slices for SICP calculation\n",
      "5. Output the fit\n"
     ]
    },
    {
     "cell_type": "markdown",
     "metadata": {},
     "source": [
      "----\n",
      "\n",
      "### Write Program\n",
      "\n",
      "#### Declare Classes"
     ]
    },
    {
     "cell_type": "code",
     "collapsed": false,
     "input": [
      "class Data: # class structure for inputting sm trace data\n",
      "    def __init__(self, time, force, position):\n",
      "        self.t = time     # list of time points\n",
      "        self.f = force    # list of force points\n",
      "        self.p = position # list of position points"
     ],
     "language": "python",
     "metadata": {},
     "outputs": [],
     "prompt_number": 12
    },
    {
     "cell_type": "code",
     "collapsed": false,
     "input": [
      "class Slices: # class structure for slicing the data into ~stationary chunks\n",
      "    sliceIntrvlIndices = []  # [[  ,  ],[  ,  ],...] indices from data list of each slice's start/end\n",
      "                             # where [[start index of first slice, end],[start index of second slice, end],...[ith,],[last,]]\n",
      "    mnForces = []            # list of mean force in each slice (will use to get nu and So) \n",
      "    bsParams = []            # [[  ,  ],[  ,  ],...] list of biasing parameters nu and So for each slice, picked off from mean force"
     ],
     "language": "python",
     "metadata": {},
     "outputs": [],
     "prompt_number": 13
    },
    {
     "cell_type": "code",
     "collapsed": false,
     "input": [
      "class Fit: # class structure for proposed fit \n",
      "    dwellIntrvlIndices = [] # [[  ,  ],[  ,  ],...] indices from data list of each dwell's start/end\n",
      "    dwellPosition = []      # list of position of each dwell\n",
      "    dwellForce = []         # list of force of each dwell\n",
      "    sliceID = []            # list of each dwell's slice location\n",
      "    "
     ],
     "language": "python",
     "metadata": {},
     "outputs": [],
     "prompt_number": 14
    },
    {
     "cell_type": "code",
     "collapsed": false,
     "input": [
      "class SICP: # class structure for SICP metric for proposed fit\n",
      "    dwellSigmaSq = []  # list of sigma squared for data points about each proposed dwell, requires dwellIntrvlIndices \n",
      "    dwellNumPts = []   # list of number of points per each proposed dwell\n",
      "    sliceSigmaSq = []  # list of sigma squared for entire slice\n",
      "    stepsInSlice = []  # list of number of steps for each slice\n",
      "    sliceSICP = []     # list of SICP calcs for each slice (has to be done completely separately slice to slice)\n",
      "    totalSICP = 0      # total SICP for entire fit proposal, this is what we aim to minimize.\n",
      "    "
     ],
     "language": "python",
     "metadata": {},
     "outputs": [],
     "prompt_number": 15
    },
    {
     "cell_type": "markdown",
     "metadata": {},
     "source": [
      "#### Input time trace"
     ]
    },
    {
     "cell_type": "code",
     "collapsed": false,
     "input": [],
     "language": "python",
     "metadata": {},
     "outputs": []
    }
   ],
   "metadata": {}
  }
 ]
}