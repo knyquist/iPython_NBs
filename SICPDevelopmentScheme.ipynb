{
 "metadata": {
  "name": ""
 },
 "nbformat": 3,
 "nbformat_minor": 0,
 "worksheets": [
  {
   "cells": [
    {
     "cell_type": "markdown",
     "metadata": {},
     "source": [
      "# Development scheme\n",
      "----\n",
      "## Introduction\n",
      "We will input a noisy single-molecule trace of, for instance, the activity of a molecular motor protein. These traces are very often step-like, with the size and duration of the steps containing important information regarding the enzymatic cycle of the machine. This information, unfortunately, is masked by noise that is intrinsic to the experiment and comes from many different sources (the Brownian motion of the particle of interest, for instance, etc). Our task is to unveil the molecular motor's behavior despite the underlying noise. \n",
      "\n",
      "In the case of optical tweezers experiments conducted in passive mode, the molecular motor actively pulls itself into regions of higher or lower external forces (increase/decrease depends on the geometry of the experiment). In this case the constrained Brownian motion of the motor contributes noise that is not stationary, but changes as a function of the external force. Many other related, but seemingly different types of experiments similarly have non-stationary noise. Here we implement an algorithm to specifically address this kind of scenario. Assumptions:\n",
      "1. Trace is fundamentally step-like.\n",
      "2. The noise is Gaussian and independently-distributed\n",
      "3. The noise is NOT stationary, but has a width that changes throughout the duration of the experiment.\n",
      "\n",
      "----\n",
      "## Program Schematic\n",
      "The program can be nicely organized by following the order of events required to do the fit.\n",
      "\n",
      "### Input data\n",
      "__Trace:__\n",
      "* time \n",
      "* force\n",
      "* position\n",
      "\n",
      "This should be populated with an input file. \n",
      "\n",
      "### Slice data into force bins\n",
      "__Slices:__\n",
      "* start and end of each \"slice\", done by force interval (orded by index...taken from trace)\n",
      "* force, mean force of each slice interval\n",
      "* params (definition: respective $\\nu$ and $S_o$ for each slice)\n",
      "\n",
      "The params should be populated with input file that contains entire range of possible parameters. \n",
      "\n",
      "\n",
      "\n",
      "__Fit:__\n",
      "* start and end of each dwell (by index...taken from trace)\n",
      "* position of each dwell \n",
      "* force of each dwell (to ID which slice and therefore which {$\\nu$, $S_o$})\n",
      "* slice ID of each dwell (will sort on this to do SICP calculation)\n",
      "\n",
      "This is iterated, we will converge on optimal fit by minimizing SICP (separate class, see below). Many objects of this class.\n",
      "\n",
      "__SICP:__\n",
      "* $\\hat{\\sigma}^2_i$, variance of the data points attached to each $i^{th}$ dwell\n",
      "* $n_i$, number of data points of each $i^{th}$ dwell\n",
      "* $\\hat{\\sigma}^2$ overall variance of the data points in entire slice\n",
      "* number of steps per slice, $d_k$\n",
      "* SICP for each slice and \n",
      "* sum of SICPs to characterize entire fit\n",
      "\n",
      "This is iterated, we will converge on the optimal fit by minimizing SICP. Many objects of this class.\n",
      "\n",
      "----\n",
      "\n",
      "_NOTE: I just realized that each slice has to have one dwell start. Our initial proposed fit will have as many dwells as there are slices. If we don't do this, the SICP becomes undefined for the slices that don't yet have a dwell._\n",
      "\n",
      "_After we do this, we can just proceed as normal, adding one step at a time (checking all possibilities during each addition and selecting the optimal one)._\n",
      "\n",
      "----\n",
      "\n",
      "## Inputs\n",
      "Two files:\n",
      "* trace, which has three floating point values separated by spaces: time, force, position\n",
      "* slice parameters, which has four space-separated floats: start force, end force, $\\nu$, $S_o$\n",
      "\n",
      "## Program function\n",
      "1. Input the trace into the trace object (see __Trace Class__ for format)\n",
      "2. Slice up the trace into the slice object (see __Slice Class__ for format)\n",
      "3. Generate initial fit (one dwell per slice, optimize location by minimizing SICP)\n",
      "4. Fit additional steps until SICP is converged\n",
      "    * Add additional steps one at a time, selecting best location by minimizing SICP. \n",
      "    * Keep track of the slices, and factor in slices for SICP calculation\n",
      "5. Output the fit\n"
     ]
    },
    {
     "cell_type": "markdown",
     "metadata": {},
     "source": [
      "----\n",
      "\n",
      "# Write Program"
     ]
    },
    {
     "cell_type": "markdown",
     "metadata": {},
     "source": [
      "## Import Data"
     ]
    },
    {
     "cell_type": "markdown",
     "metadata": {},
     "source": [
      "Trace data is contained in external txt file, space delimited."
     ]
    },
    {
     "cell_type": "code",
     "collapsed": false,
     "input": [
      "# import data\n",
      "def data_point(time, force, position): # a data point will have a time, a position, and a force\n",
      "    return {'t': time, 'f': force, 'p': position} # each data point is an unordered list of time, force, and position\n",
      "dataFile = open('./examp_trace.txt', 'r')\n",
      "trace = []; tmp = []\n",
      "for row in dataFile:\n",
      "    tmp.append(row.strip().split(' '))\n",
      "[trace.append(data_point(float(tmp[i][0]),float(tmp[i][1]),float(tmp[i][2]))) for i in range(0,len(tmp))]\n",
      "del tmp\n",
      "dataFile.close()\n",
      "# data is now dumped in trace list (each list item is a dictionary)"
     ],
     "language": "python",
     "metadata": {},
     "outputs": [],
     "prompt_number": 1
    },
    {
     "cell_type": "markdown",
     "metadata": {},
     "source": [
      "## Slice Data"
     ]
    },
    {
     "cell_type": "markdown",
     "metadata": {},
     "source": [
      "Import list of nu and So for each possible force slice"
     ]
    },
    {
     "cell_type": "code",
     "collapsed": false,
     "input": [
      "# import nu, So for each slice\n",
      "def slice_params(startForce, endForce, nu, So): # a slice of data will have a start/end force and corresponding (nu, So) bias params\n",
      "    return {'sF': startForce, 'eF': endForce, 'nu': nu, 'So': So} # each possible slice interval is unordered list of params \n",
      "sliceFile = open('./examp_params.txt', 'r')\n",
      "params = []; tmp = [];\n",
      "for row in sliceFile:\n",
      "    tmp.append(row.strip().split(' '))\n",
      "[params.append(slice_params(float(tmp[i][0]),float(tmp[i][1]),float(tmp[i][2]),float(tmp[i][3]))) for i in range(0,len(tmp))]\n",
      "del tmp\n",
      "sliceFile.close()\n",
      "# possible parameters are now dumped in params list (each list item is a dictionary) "
     ],
     "language": "python",
     "metadata": {},
     "outputs": [],
     "prompt_number": 15
    },
    {
     "cell_type": "markdown",
     "metadata": {},
     "source": [
      "Slice the data according to force by recording start/end indices of each slice. Attach approprate (nu, So) to each slice"
     ]
    },
    {
     "cell_type": "code",
     "collapsed": false,
     "input": [
      "stF=sorted(trace, key=lambda x: x['f'])\n",
      "def slice_indexing(startForce, startIndex, endForce, endIndex, nu, So): # slice the data, keeping track of indexes and bias params\n",
      "    return {'sF': startForce, 'sI': startIndex, 'eF': endForce, 'eI': endIndex, 'nu': nu, 'So': So}\n",
      "def find_nearest(array, value):\n",
      "    index=argmin([abs(array[i]-value) for i in range(0,len(array))])\n",
      "    return array[index]\n",
      "slices = [];\n",
      "for forces in range(int(round(stF[0]['f'])),int(round(stF[len(stF)-1]['f']))): # very messy, but creates integer force list. because of how range() works, the last force isn't included\n",
      "    if forces == int(round(stF[0]['f'])):\n",
      "        sI=0;\n",
      "    else:\n",
      "        sI=[trace[i]['f'] for i in range(0,len(trace))].index(find_nearest([trace[i]['f'] for i in range(0,len(trace))],forces))\n",
      "    if forces+1 == int(round(stF[len(stF)-1]['f'])):\n",
      "        eI = len(trace)-1\n",
      "    else:\n",
      "        eI=[trace[i]['f'] for i in range(0,len(trace))].index(find_nearest([trace[i]['f'] for i in range(0,len(trace))],forces+1)) \n",
      "    sF=forces; eF=forces+1;\n",
      "    nu=params[[params[i]['sF'] for i in range(0,len(params))].index(sF)]['nu'];\n",
      "    So=params[[params[i]['sF'] for i in range(0,len(params))].index(sF)]['So'];\n",
      "    slices\n",
      "    slices.append(slice_indexing(forces, sI, forces+1, eI, nu, So))"
     ],
     "language": "python",
     "metadata": {},
     "outputs": [],
     "prompt_number": 50
    },
    {
     "cell_type": "code",
     "collapsed": false,
     "input": [],
     "language": "python",
     "metadata": {},
     "outputs": [],
     "prompt_number": 50
    },
    {
     "cell_type": "code",
     "collapsed": false,
     "input": [],
     "language": "python",
     "metadata": {},
     "outputs": [],
     "prompt_number": 50
    },
    {
     "cell_type": "code",
     "collapsed": false,
     "input": [],
     "language": "python",
     "metadata": {},
     "outputs": []
    }
   ],
   "metadata": {}
  }
 ]
}