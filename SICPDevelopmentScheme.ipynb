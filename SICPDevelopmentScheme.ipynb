{
 "metadata": {
  "name": ""
 },
 "nbformat": 3,
 "nbformat_minor": 0,
 "worksheets": [
  {
   "cells": [
    {
     "cell_type": "markdown",
     "metadata": {},
     "source": [
      "# Development scheme\n",
      "----\n",
      "## Introduction\n",
      "We will input a noisy single-molecule trace of, for instance, the activity of a molecular motor protein. These traces are very often step-like, with the size and duration of the steps containing important information regarding the enzymatic cycle of the machine. This information, unfortunately, is masked by noise that is intrinsic to the experiment and comes from many different sources (the Brownian motion of the particle of interest, for instance, etc). Our task is to unveil the molecular motor's behavior despite the underlying noise. \n",
      "\n",
      "In the case of optical tweezers experiments conducted in passive mode, the molecular motor actively pulls itself into regions of higher or lower external forces (increase/decrease depends on the geometry of the experiment). In this case the constrained Brownian motion of the motor contributes noise that is not stationary, but changes as a function of the external force. Many other related, but seemingly different types of experiment similarly have non-stationary noise. Here we implement an algorithm to specifically address this kind of scenario. Assumptions:\n",
      "1. Trace is fundamentally step-like.\n",
      "2. The noise is Gaussian and independently-distributed\n",
      "3. The noise is NOT stationary, but has a width that changes throughout the duration of the experiment.\n",
      "\n",
      "----\n",
      "## Program Schematic\n",
      "The program can be nicely organized by following the order of events required to do the fit.\n",
      "\n",
      "### Input data\n",
      "__Trace:__\n",
      "* time \n",
      "* force\n",
      "* position\n",
      "\n",
      "This should be populated with an input file. \n",
      "\n",
      "### Slice data into force bins\n",
      "__Slices:__\n",
      "* start and end of each \"slice\", done by force interval (orded by index...taken from trace)\n",
      "* force, mean force of each slice interval\n",
      "* params (definition: respective $\\nu$ and $S_o$ for each slice)\n",
      "\n",
      "The params should be populated with input file that contains entire range of possible parameters. \n",
      "\n",
      "\n",
      "\n",
      "__Fit:__\n",
      "* start and end of each dwell (by index...taken from trace)\n",
      "* position of each dwell \n",
      "* force of each dwell (to ID which slice and therefore which {$\\nu$, $S_o$})\n",
      "* slice ID of each dwell (will sort on this to do SICP calculation)\n",
      "\n",
      "This is iterated, we will converge on optimal fit by minimizing SICP (separate class, see below). Many objects of this class.\n",
      "\n",
      "__SICP:__\n",
      "* $\\hat{\\sigma}^2_i$, variance of the data points attached to each $i^{th}$ dwell\n",
      "* $n_i$, number of data points of each $i^{th}$ dwell\n",
      "* $\\hat{\\sigma}^2$ overall variance of the data points in entire slice\n",
      "* number of steps per slice, $d_k$\n",
      "* SICP for each slice and \n",
      "* sum of SICPs to characterize entire fit\n",
      "\n",
      "This is iterated, we will converge on the optimal fit by minimizing SICP. Many objects of this class.\n",
      "\n",
      "----\n",
      "\n",
      "_NOTE: I just realized that each slice has to have one dwell start. Our initial proposed fit will have as many dwells as there are slices. If we don't do this, the SICP becomes undefined for the slices that don't yet have a dwell._\n",
      "\n",
      "_After we do this, we can just proceed as normal, adding one step at a time (checking all possibilities during each addition and selecting the optimal one)._\n",
      "\n",
      "----\n",
      "\n",
      "## Inputs\n",
      "Two files:\n",
      "* trace, which has three floating point values separated by spaces: time, force, position\n",
      "* slice parameters, which has four space-separated floats: start force, end force, $\\nu$, $S_o$\n",
      "\n",
      "## Program function\n",
      "1. Input the trace into the trace object (see __Trace Class__ for format)\n",
      "2. Slice up the trace into the slice object (see __Slice Class__ for format)\n",
      "3. Generate initial fit (one dwell per slice, optimize location by minimizing SICP)\n",
      "4. Fit additional steps until SICP is converged\n",
      "    * Add additional steps one at a time, selecting best location by minimizing SICP. \n",
      "    * Keep track of the slices, and factor in slices for SICP calculation\n",
      "5. Output the fit\n"
     ]
    },
    {
     "cell_type": "markdown",
     "metadata": {},
     "source": [
      "----\n",
      "\n",
      "# Write Program"
     ]
    },
    {
     "cell_type": "markdown",
     "metadata": {},
     "source": [
      "## Import Data"
     ]
    },
    {
     "cell_type": "markdown",
     "metadata": {},
     "source": [
      "Trace data is contained in external txt file, space delimited."
     ]
    },
    {
     "cell_type": "code",
     "collapsed": false,
     "input": [
      "# import data\n",
      "def data_point(time, force, position): # a data point will have a time, a position, and a force\n",
      "    return {'t': time, 'f': force, 'p': position} # each data point is an unordered list of time, force, and position\n",
      "dataFile = open('./examp_trace.txt', 'r')\n",
      "trace = []; tmp = []\n",
      "for row in dataFile:\n",
      "    tmp.append(row.strip().split(' '))\n",
      "[trace.append(data_point(float(tmp[i][0]),float(tmp[i][1]),float(tmp[i][2]))) for i in range(0,len(tmp))]\n",
      "del tmp\n",
      "dataFile.close()\n",
      "# data is now dumped in trace list (each list item is a dictionary)"
     ],
     "language": "python",
     "metadata": {},
     "outputs": [],
     "prompt_number": 95
    },
    {
     "cell_type": "markdown",
     "metadata": {},
     "source": [
      "## Slice Data"
     ]
    },
    {
     "cell_type": "markdown",
     "metadata": {},
     "source": [
      "Import list of nu and So for each possible force slice"
     ]
    },
    {
     "cell_type": "code",
     "collapsed": false,
     "input": [
      "# import nu, So for each slice\n",
      "def slice_params(startForce, endForce, nu, So): # a slice of data will have a start/end force and corresponding (nu, So) bias params\n",
      "    return {'bF': startForce, 'eF': endForce, 'nu': nu, 'So': So} # each possible slice interval is unordered list of params \n",
      "sliceFile = open('./examp_params.txt', 'r')\n",
      "params = []; tmp = [];\n",
      "for row in sliceFile:\n",
      "    tmp.append(row.strip().split(' '))\n",
      "[params.append(slice_params(float(tmp[i][0]),float(tmp[i][1]),float(tmp[i][2]),float(tmp[i][3]))) for i in range(0,len(tmp))]\n",
      "del tmp\n",
      "sliceFile.close()\n",
      "# possible parameters are now dumped in params list (each list item is a dictionary) "
     ],
     "language": "python",
     "metadata": {},
     "outputs": [],
     "prompt_number": 174
    },
    {
     "cell_type": "markdown",
     "metadata": {},
     "source": [
      "Slice the data according to force by recording start/end indices of each slice. Attach approprate nu, So to each slice"
     ]
    },
    {
     "cell_type": "code",
     "collapsed": false,
     "input": [
      "stF=sorted(trace, key=lambda x: x['f'])\n",
      "def slice_indexing(startForce, startIndex, endForce, endIndex, nu, So): # slice the data, keeping track of indexes and bias params\n",
      "    return {'sF': startForce, 'sI': startIndex, 'eF': endForce, 'eI': endIndex, 'nu': nu, 'So': So}\n",
      "for forces in range(int(round(stF[0]['f'])),int(round(stF[len(stF)-1]['f']))+1):\n",
      "    print forces\n"
     ],
     "language": "python",
     "metadata": {},
     "outputs": [
      {
       "output_type": "stream",
       "stream": "stdout",
       "text": [
        "1\n",
        "2\n",
        "3\n",
        "4\n",
        "5\n",
        "6\n"
       ]
      }
     ],
     "prompt_number": 183
    },
    {
     "cell_type": "code",
     "collapsed": false,
     "input": [],
     "language": "python",
     "metadata": {},
     "outputs": []
    },
    {
     "cell_type": "code",
     "collapsed": false,
     "input": [],
     "language": "python",
     "metadata": {},
     "outputs": []
    },
    {
     "cell_type": "code",
     "collapsed": false,
     "input": [
      "class Data: # class structure for inputting sm trace data\n",
      "    def __init__(self, time, force, position):\n",
      "        self.t = time     # list of time points\n",
      "        self.f = force    # list of force points\n",
      "        self.p = position # list of position points\n",
      "    def __str__(self):\n",
      "        return \"Time: %f\\nForce: %f\\nPosition: %f\\n\"%(self.t, self.f, self.p)\n",
      "    \n",
      "def data_point(time, force, position):\n",
      "    return {'t': time, 'f': force, 'p': position}"
     ],
     "language": "python",
     "metadata": {},
     "outputs": [],
     "prompt_number": 24
    },
    {
     "cell_type": "code",
     "collapsed": false,
     "input": [
      "import random\n",
      "from pprint import pprint\n",
      "\n",
      "someshit = []\n",
      "for i in range(50):\n",
      "    someshit.append(data_point(random.random(), random.random(), random.random()))\n",
      "\n",
      "st = sorted(someshit, key=lambda x: x['p'], reverse=True)\n",
      "st"
     ],
     "language": "python",
     "metadata": {},
     "outputs": [
      {
       "metadata": {},
       "output_type": "pyout",
       "prompt_number": 31,
       "text": [
        "[{'f': 0.8932091423706292, 'p': 0.9486668711103218, 't': 0.4571423936573069},\n",
        " {'f': 0.1633103631701025, 'p': 0.9319058212009272, 't': 0.8949052883405199},\n",
        " {'f': 0.30194261849055815, 'p': 0.8679616362725724, 't': 0.824821665741634},\n",
        " {'f': 0.23071042264589636, 'p': 0.8607167702956833, 't': 0.8295173060737527},\n",
        " {'f': 0.16872917642708163, 'p': 0.8537688341308814, 't': 0.46522071131742027},\n",
        " {'f': 0.03099573962723967, 'p': 0.8280682385827117, 't': 0.4777013982703582},\n",
        " {'f': 0.7038797202709449, 'p': 0.8058364484564396, 't': 0.5903426707409118},\n",
        " {'f': 0.9499988124503829, 'p': 0.8054492095908732, 't': 0.14292292065963086},\n",
        " {'f': 0.9520599785295257, 'p': 0.7930659915842555, 't': 0.8672836305266007},\n",
        " {'f': 0.6285234409233064, 'p': 0.7436294754328965, 't': 0.9682842414607301},\n",
        " {'f': 0.45695855889255954, 'p': 0.7136179913351275, 't': 0.9772395882740136},\n",
        " {'f': 0.12415671696241481, 'p': 0.6993398696184874, 't': 0.6620851114904861},\n",
        " {'f': 0.9800832408776008, 'p': 0.6959225422610595, 't': 0.6430453480701163},\n",
        " {'f': 0.18222478550752086, 'p': 0.6701466448388748, 't': 0.325868097044516},\n",
        " {'f': 0.07655740299628577, 'p': 0.6219929804870664, 't': 0.8402113811652838},\n",
        " {'f': 0.641181416462594, 'p': 0.6195642514057464, 't': 0.42567505046479825},\n",
        " {'f': 0.43513695491412574, 'p': 0.599903600311079, 't': 0.009614246556131079},\n",
        " {'f': 0.323737799146135, 'p': 0.5915307556213689, 't': 0.0004907253248223054},\n",
        " {'f': 0.8532556640387559, 'p': 0.5843064027022626, 't': 0.16217282905562158},\n",
        " {'f': 0.9060905070650976, 'p': 0.5617553140124005, 't': 0.03338542870828032},\n",
        " {'f': 0.8803839497110675, 'p': 0.5429479715894044, 't': 0.23383810149333595},\n",
        " {'f': 0.022905727427142253,\n",
        "  'p': 0.5399632014388438,\n",
        "  't': 0.22644319237022437},\n",
        " {'f': 0.2718545220011028, 'p': 0.5279998227988935, 't': 0.7953035489126842},\n",
        " {'f': 0.5929297058007633, 'p': 0.5218837560931604, 't': 0.6108081304022335},\n",
        " {'f': 0.562300692931395, 'p': 0.4942849756648875, 't': 0.4031899908622141},\n",
        " {'f': 0.5968926672824382, 'p': 0.4856784035800744, 't': 0.9543579748838813},\n",
        " {'f': 0.09611388147189592, 'p': 0.4850688814826072, 't': 0.709253607652819},\n",
        " {'f': 0.9716282704913214, 'p': 0.45638137913119514, 't': 0.6263147498076552},\n",
        " {'f': 0.45683709637869596, 'p': 0.42236564840944124, 't': 0.4628011559682669},\n",
        " {'f': 0.29205056426032483, 'p': 0.42085790409164936, 't': 0.1356012416356327},\n",
        " {'f': 0.7775305733350295, 'p': 0.41507201633183566, 't': 0.9855346737185722},\n",
        " {'f': 0.923929944448221, 'p': 0.4079423498655246, 't': 0.9612246172697689},\n",
        " {'f': 0.9467162527370792, 'p': 0.371675608546448, 't': 0.7851612507929675},\n",
        " {'f': 0.43006388188275435, 'p': 0.30166698120170965, 't': 0.5197437523593591},\n",
        " {'f': 0.9206967945388776, 'p': 0.29290701504394223, 't': 0.41719815520466985},\n",
        " {'f': 0.31769828338781225,\n",
        "  'p': 0.28738721489808683,\n",
        "  't': 0.06804387078087182},\n",
        " {'f': 0.03298442699125759, 'p': 0.2780288618282857, 't': 0.38209988161268293},\n",
        " {'f': 0.21179345735677235, 'p': 0.2630403384964254, 't': 0.3593211546313049},\n",
        " {'f': 0.25271340117952157,\n",
        "  'p': 0.23850886101828028,\n",
        "  't': 0.42763752589059956},\n",
        " {'f': 0.8025847464989635, 'p': 0.22583112728550025, 't': 0.29328282540814365},\n",
        " {'f': 0.943561344350422, 'p': 0.22234953914072153, 't': 0.7255455005254451},\n",
        " {'f': 0.2303301721907567, 'p': 0.18083400689506368, 't': 0.27702173529521734},\n",
        " {'f': 0.03699590631120231, 'p': 0.17122737844502756, 't': 0.6499610000696281},\n",
        " {'f': 0.8860870543555819, 'p': 0.14552099338782554, 't': 0.9335635958837112},\n",
        " {'f': 0.5017430550406309, 'p': 0.10260014872228773, 't': 0.805429746701973},\n",
        " {'f': 0.055711785304219164, 'p': 0.05677210609105454, 't': 0.773969299827932},\n",
        " {'f': 0.14187179038148046, 'p': 0.03867837147366915, 't': 0.8826304448424881},\n",
        " {'f': 0.31435970824726245,\n",
        "  'p': 0.023265239684911232,\n",
        "  't': 0.3017755276505367},\n",
        " {'f': 0.07439868281420259,\n",
        "  'p': 0.013617479692119683,\n",
        "  't': 0.8840700637464878},\n",
        " {'f': 0.46731042897276664,\n",
        "  'p': 0.0013781693940639883,\n",
        "  't': 0.7983010259840193}]"
       ]
      }
     ],
     "prompt_number": 31
    },
    {
     "cell_type": "code",
     "collapsed": false,
     "input": [
      "d = Data(0.1, 0.2, 0.3)\n",
      "dd = data_point(time=0.1, force=0.2, position=0.3)\n",
      "print(d)\n",
      "print(dd.items())"
     ],
     "language": "python",
     "metadata": {},
     "outputs": [
      {
       "output_type": "stream",
       "stream": "stdout",
       "text": [
        "Time: 0.100000\n",
        "Force: 0.200000\n",
        "Position: 0.300000\n",
        "\n",
        "[('p', 0.3), ('t', 0.1), ('f', 0.2)]\n"
       ]
      }
     ],
     "prompt_number": 26
    },
    {
     "cell_type": "code",
     "collapsed": false,
     "input": [
      "class Slices: # class structure for slicing the data into ~stationary chunks\n",
      "    sliceIntrvlIndices = []  # [[  ,  ],[  ,  ],...] indices from data list of each slice's start/end\n",
      "                             # where [[start index of first slice, end],[start index of second slice, end],...[ith,],[last,]]\n",
      "    mnForces = []            # list of mean force in each slice (will use to get nu and So) \n",
      "    bsParams = []            # [[  ,  ],[  ,  ],...] list of biasing parameters nu and So for each slice, picked off from mean force"
     ],
     "language": "python",
     "metadata": {},
     "outputs": [],
     "prompt_number": 13
    },
    {
     "cell_type": "code",
     "collapsed": false,
     "input": [
      "class Fit: # class structure for proposed fit \n",
      "    dwellIntrvlIndices = [] # [[  ,  ],[  ,  ],...] indices from data list of each dwell's start/end\n",
      "    dwellPosition = []      # list of position of each dwell\n",
      "    dwellForce = []         # list of force of each dwell\n",
      "    sliceID = []            # list of each dwell's slice location\n",
      "    "
     ],
     "language": "python",
     "metadata": {},
     "outputs": [],
     "prompt_number": 14
    },
    {
     "cell_type": "code",
     "collapsed": false,
     "input": [
      "class SICP: # class structure for SICP metric for proposed fit\n",
      "    dwellSigmaSq = []  # list of sigma squared for data points about each proposed dwell, requires dwellIntrvlIndices \n",
      "    dwellNumPts = []   # list of number of points per each proposed dwell\n",
      "    sliceSigmaSq = []  # list of sigma squared for entire slice\n",
      "    stepsInSlice = []  # list of number of steps for each slice\n",
      "    sliceSICP = []     # list of SICP calcs for each slice (has to be done completely separately slice to slice)\n",
      "    totalSICP = 0      # total SICP for entire fit proposal, this is what we aim to minimize.\n",
      "    "
     ],
     "language": "python",
     "metadata": {},
     "outputs": [],
     "prompt_number": 15
    },
    {
     "cell_type": "markdown",
     "metadata": {},
     "source": [
      "#### Input time trace"
     ]
    },
    {
     "cell_type": "code",
     "collapsed": false,
     "input": [],
     "language": "python",
     "metadata": {},
     "outputs": []
    }
   ],
   "metadata": {}
  }
 ]
}