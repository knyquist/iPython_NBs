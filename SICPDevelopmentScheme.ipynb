{
 "metadata": {
  "name": ""
 },
 "nbformat": 3,
 "nbformat_minor": 0,
 "worksheets": [
  {
   "cells": [
    {
     "cell_type": "markdown",
     "metadata": {},
     "source": [
      "# Development scheme\n",
      "\n",
      "## Introduction\n",
      "We will input a noisy single-molecule trace of, for instance, the activity of a molecular motor protein. These traces are very often step-like, with the size and duration of the steps containing important information regarding the enzymatic cycle of the machine. This information, unfortunately, is masked by noise that is intrinsic to the experiment and comes from many different sources (the Brownian motion of the particle of interest, for instance, etc). Our task is to unveil the molecular motor's behavior despite the underlying noise. \n",
      "\n",
      "In the case of optical tweezers experiments conducted in passive mode, the molecular motor actively pulls itself into regions of higher or lower external forces (increase/decrease depends on the geometry of the experiment). In this case the constrained Brownian motion of the motor contributes noise that is not stationary, but changes as a function of the external force. Many other related, but seemingly different types of experiments similarly have non-stationary noise. Here we implement an algorithm to specifically address this kind of scenario. Assumptions:\n",
      "1. Trace is fundamentally step-like.\n",
      "2. The noise is Gaussian and independently-distributed\n",
      "3. The noise is NOT stationary, but has a width that changes throughout the duration of the experiment.\n",
      "\n",
      "\n",
      "## Program Schematic\n",
      "The program can be nicely organized by following the order of events required to do the fit.\n",
      "\n",
      "### Input data\n",
      "Trace:\n",
      "* time \n",
      "* force\n",
      "* position\n",
      "\n",
      "This should be populated with an input file. \n",
      "\n",
      "### Slice data into force bins\n",
      "Slices:\n",
      "* start and end of each \"slice\", done by force interval (orded by index...taken from trace)\n",
      "* force, mean force of each slice interval\n",
      "* params (definition: respective $\\nu$ and $S_o$ for each slice)\n",
      "\n",
      "The params should be populated with input file that contains entire range of possible parameters. \n",
      "\n",
      "\n",
      "\n",
      "Fit:\n",
      "* start and end of each dwell (by index...taken from trace)\n",
      "* position of each dwell \n",
      "* force of each dwell (to ID which slice and therefore which {$\\nu$, $S_o$})\n",
      "* slice ID of each dwell (will sort on this to do SICP calculation)\n",
      "\n",
      "This is iterated, we will converge on optimal fit by minimizing SICP (separate class, see below). Many objects of this class.\n",
      "\n",
      "SICP:\n",
      "* $\\hat{\\sigma}^2_i$, variance of the data points attached to each $i^{th}$ dwell\n",
      "* $n_i$, number of data points of each $i^{th}$ dwell\n",
      "* $\\hat{\\sigma}^2$ overall variance of the data points in entire slice\n",
      "* number of steps per slice, $d_k$\n",
      "* SICP for each slice and \n",
      "* sum of SICPs to characterize entire fit\n",
      "\n",
      "This is iterated, we will converge on the optimal fit by minimizing SICP. Many objects of this class.\n",
      "\n",
      "NOTE: I just realized that each slice has to have one dwell start. Our initial proposed fit will have as many dwells as there are slices. If we don't do this, the SICP becomes undefined for the slices that don't yet have a dwell.\n",
      "\n",
      "After we do this, we can just proceed as normal, adding one step at a time (checking all possibilities during each addition and selecting the optimal one).\n",
      "\n",
      "\n",
      "## Inputs\n",
      "Two files:\n",
      "* trace, which has three floating point values separated by spaces: time, force, position\n",
      "* slice parameters, which has four space-separated floats: start force, end force, $\\nu$, $S_o$\n",
      "\n",
      "## Program function\n",
      "1. Input the trace into the trace object (see Trace Class for format)\n",
      "2. Slice up the trace into the slice object (see Slice Class for format)\n",
      "3. Generate initial fit (one dwell per slice, optimize location by minimizing SICP)\n",
      "4. Fit additional steps until SICP is converged\n",
      "    * Add additional steps one at a time, selecting best location by minimizing SICP. \n",
      "    * Keep track of the slices, and factor in slices for SICP calculation\n",
      "5. Output the fit\n"
     ]
    },
    {
     "cell_type": "markdown",
     "metadata": {},
     "source": [
      "----\n",
      "\n",
      "# Write Program"
     ]
    },
    {
     "cell_type": "markdown",
     "metadata": {},
     "source": [
      "## Import Data"
     ]
    },
    {
     "cell_type": "markdown",
     "metadata": {},
     "source": [
      "Trace data is contained in external txt file, space delimited. Format is: time force position"
     ]
    },
    {
     "cell_type": "code",
     "collapsed": false,
     "input": [
      "# import data\n",
      "def data_point(time, force, position):\n",
      "    '''\n",
      "    Inputs: a data point will have a time, a position, and a force (floats)\n",
      "    '''\n",
      "    # each data point is an dict having time, force, and position\n",
      "    return {'t': time,\n",
      "            'f': force,\n",
      "            'p': position}\n",
      "\n",
      "def load_trace(trace_filename):\n",
      "    trace = []\n",
      "    \n",
      "    dataFile = open(trace_filename, 'r')\n",
      "    for row in dataFile:\n",
      "        d = [float(f) for f in row.strip().split(' ')] # Have to cast each string value to a float\n",
      "        trace.append(data_point(*d))\n",
      "    dataFile.close()\n",
      "    \n",
      "    # data is now dumped in trace list (each list item is a dictionary)\n",
      "    return trace"
     ],
     "language": "python",
     "metadata": {},
     "outputs": [],
     "prompt_number": 1
    },
    {
     "cell_type": "code",
     "collapsed": false,
     "input": [
      "# print first and last couple list items to confirm it's set up correctly\n",
      "trace = load_trace(trace_filename='./examp_trace.txt')\n",
      "\n",
      "print \"Len:\", len(trace)\n",
      "print \"First:\", trace[0]\n",
      "print \"Last:\", trace[-1]"
     ],
     "language": "python",
     "metadata": {},
     "outputs": [
      {
       "output_type": "stream",
       "stream": "stdout",
       "text": [
        "Len: 10000\n",
        "First: {'p': 7.921456837623158, 't': 0.0, 'f': 0.9901821047028948}\n",
        "Last: {'p': 42.1598571715027, 't': 9999.0, 'f': 5.269982146437838}\n"
       ]
      }
     ],
     "prompt_number": 2
    },
    {
     "cell_type": "markdown",
     "metadata": {},
     "source": [
      "## Slice Data"
     ]
    },
    {
     "cell_type": "markdown",
     "metadata": {},
     "source": [
      "Import list of nu and So for each possible force slice"
     ]
    },
    {
     "cell_type": "code",
     "collapsed": false,
     "input": [
      "# import nu, So for each slice\n",
      "def slice_params(startForce, endForce, nu, So): # a slice of data will have a start/end force and corresponding (nu, So) bias params\n",
      "    return {'sF': startForce, 'eF': endForce, 'nu': nu, 'So': So} # each possible slice interval is unordered list of params \n",
      "sliceFile = open('./examp_params.txt', 'r')\n",
      "params = []; tmp = [];\n",
      "for row in sliceFile:\n",
      "    tmp.append(row.strip().split(' '))\n",
      "[params.append(slice_params(float(tmp[i][0]),float(tmp[i][1]),float(tmp[i][2]),float(tmp[i][3]))) for i in range(0,len(tmp))]\n",
      "del tmp\n",
      "sliceFile.close()\n",
      "# possible parameters are now dumped in params list (each list item is a dictionary) "
     ],
     "language": "python",
     "metadata": {},
     "outputs": [],
     "prompt_number": 3
    },
    {
     "cell_type": "code",
     "collapsed": false,
     "input": [
      "print params"
     ],
     "language": "python",
     "metadata": {},
     "outputs": [
      {
       "output_type": "stream",
       "stream": "stdout",
       "text": [
        "[{'eF': 1.0, 'So': 0.0, 'sF': 0.0, 'nu': 0.0}, {'eF': 2.0, 'So': 0.0, 'sF': 1.0, 'nu': 0.0}, {'eF': 3.0, 'So': 0.0, 'sF': 2.0, 'nu': 0.0}, {'eF': 4.0, 'So': 0.0, 'sF': 3.0, 'nu': 0.0}, {'eF': 5.0, 'So': 0.0, 'sF': 4.0, 'nu': 0.0}, {'eF': 6.0, 'So': 0.0, 'sF': 5.0, 'nu': 0.0}, {'eF': 7.0, 'So': 0.0, 'sF': 6.0, 'nu': 0.0}, {'eF': 8.0, 'So': 0.0, 'sF': 7.0, 'nu': 0.0}, {'eF': 9.0, 'So': 0.0, 'sF': 8.0, 'nu': 0.0}, {'eF': 10.0, 'So': 0.0, 'sF': 9.0, 'nu': 0.0}]\n"
       ]
      }
     ],
     "prompt_number": 4
    },
    {
     "cell_type": "markdown",
     "metadata": {},
     "source": [
      "Slice the data according to force by recording start/end indices of each slice. Attach approprate (nu, So) to each slice"
     ]
    },
    {
     "cell_type": "code",
     "collapsed": false,
     "input": [
      "stF=sorted(trace, key=lambda x: x['f'])\n",
      "\n",
      "def slice_indexing(startForce, startIndex, endForce, endIndex, nu, So): # slice the data, keeping track of indexes and bias params\n",
      "    return {'sF': startForce,\n",
      "            'sI': startIndex,\n",
      "            'eF': endForce,\n",
      "            'eI': endIndex,\n",
      "            'nu': nu,\n",
      "            'So': So}\n",
      "\n",
      "def find_nearest(array, value):\n",
      "    index=argmin([abs(array[i]-value) for i in range(0,len(array))])\n",
      "    return array[index]\n",
      "\n",
      "slices = [];\n",
      "for forces in range(int(round(stF[0]['f'])),int(round(stF[len(stF)-1]['f']))): # very messy, but creates integer force list. because of how range() works, the last force isn't included\n",
      "    # sometimes the starting force will only be just below a certain force (i.e. 4.7 will be starting force. If you sliced the trace\n",
      "    # to include a 4 to 5 pN interval there would hardly be any data in that interval. A similar thing might happen at the ending force\n",
      "    # where it will be only just above a certain force (i.e. 10.2, in this case you wouldn't want to incluede a 10 to 11 pN interval)\n",
      "    # the int(round(... in the for loop above will specifically treat these possible starting/ending potential issues.\n",
      "    \n",
      "    # the if/else statements correct the indices of the starting and end force intervals (if forces is either the first or last\n",
      "    # force interval, we set the indices accordingly\n",
      "    if forces == int(round(stF[0]['f'])):\n",
      "        sI=0;\n",
      "    else:\n",
      "        sI=[trace[i]['f'] for i in range(0,len(trace))].index(find_nearest([trace[i]['f'] for i in range(0,len(trace))],forces))\n",
      "    if forces+1 == int(round(stF[len(stF)-1]['f'])):\n",
      "        eI = len(trace)-1\n",
      "    else:\n",
      "        eI=[trace[i]['f'] for i in range(0,len(trace))].index(find_nearest([trace[i]['f'] for i in range(0,len(trace))],forces+1)) \n",
      "    sF=forces; eF=forces+1;\n",
      "    nu=params[[params[i]['sF'] for i in range(0,len(params))].index(sF)]['nu'];\n",
      "    So=params[[params[i]['sF'] for i in range(0,len(params))].index(sF)]['So'];\n",
      "    slices.append(slice_indexing(forces, sI, forces+1, eI, nu, So))\n",
      "del stF"
     ],
     "language": "python",
     "metadata": {},
     "outputs": [],
     "prompt_number": 5
    },
    {
     "cell_type": "markdown",
     "metadata": {},
     "source": [
      "Confirm that slicing is working graphically"
     ]
    },
    {
     "cell_type": "code",
     "collapsed": false,
     "input": [
      "figure(figsize=(20,6))\n",
      "subplot(1,2,1)\n",
      "for s in range(0,len(slices)): # iterate over each slice, s indexes slices \n",
      "    force = [trace[i]['f'] for i in range(slices[s]['sI'], slices[s]['eI'])] \n",
      "    time = [trace[i]['t'] for i in range(slices[s]['sI'], slices[s]['eI'])]\n",
      "    plot(time, force); title('Sliced by Force', fontsize=30);\n",
      "    xlabel('$t$', fontsize=30); ylabel('force', style='italic', fontsize=30); tick_params(labelsize=25)\n",
      "subplot(1,2,2)\n",
      "plot([trace[i]['f'] for i in range(0,len(trace))]); title('Original Trace',fontsize=30)\n",
      "xlabel('$t$', fontsize=30); ylabel('force', style='italic', fontsize=30); tick_params(labelsize=25)\n"
     ],
     "language": "python",
     "metadata": {},
     "outputs": [
      {
       "metadata": {},
       "output_type": "display_data",
       "png": "[encoded data removed]",
       "text": [
        "<matplotlib.figure.Figure at 0x7f9b2dab9290>"
       ]
      }
     ],
     "prompt_number": 6
    },
    {
     "cell_type": "markdown",
     "metadata": {},
     "source": [
      "## Optimal First Fit"
     ]
    },
    {
     "cell_type": "markdown",
     "metadata": {},
     "source": [
      "Optimal single dwell of each slice is at mean of data"
     ]
    },
    {
     "cell_type": "code",
     "collapsed": false,
     "input": [
      "def dwell_params(startIndex, endIndex, positionLoc, forceLoc, sliceLoc): # when dwell is added, keep track of this information\n",
      "    return {'sI': startIndex, 'eI': endIndex, 'p': positionLoc, 'f': forceLoc, 'slice': sliceLoc}\n",
      "def slice_initial_sicp(dwellSigSq, dwellNumPts, numSteps, whichSlice): # list, list, list \n",
      "    nu = slices[whichSlice]['nu']\n",
      "    So = slices[whichSlice]['So']\n",
      "    sicp = -numSteps*(log(2*pi)+1) + log(dwellNumPts) + (dwellNumPts+nu-numSteps-1)*log(dwellNumPts*dwellSigSq+So) - (dwellNumPts+nu-numSteps-3)*log(dwellNumPts+nu-numSteps-3) - log(dwellNumPts+nu-numSteps-3)\n",
      "    return sicp\n",
      "dwellList=[]; sicpSlice=[]; \n",
      "for s in range(0,len(slices)): # iterate over each slice, s indexes list\n",
      "    pos=[trace[i]['p'] for i in range(slices[s]['sI'], slices[s]['eI'])] # get position list only within current slice\n",
      "    force=[trace[i]['f'] for i in range(slices[s]['sI'], slices[s]['eI'])] # get force list only within current slice\n",
      "    startIndex=slices[s]['sI']\n",
      "    endIndex=slices[s]['eI']\n",
      "    positionLoc=mean(pos)\n",
      "    forceLoc=mean(force)\n",
      "    sliceLoc=s\n",
      "    dwellSigSq=var(pos); dwellNumPts=(endIndex-startIndex); numSteps=0;\n",
      "    sicpSlice.append(slice_initial_sicp(dwellSigSq, dwellNumPts, numSteps, s))\n",
      "    dwellList.append(dwell_params(startIndex, endIndex, positionLoc, forceLoc, sliceLoc))\n",
      "del pos; del force; del startIndex; del endIndex; del positionLoc; del forceLoc; del sliceLoc; del dwellSigSq; del dwellNumPts; del numSteps \n",
      "# clear variable I won't use anymore"
     ],
     "language": "python",
     "metadata": {},
     "outputs": [],
     "prompt_number": 7
    },
    {
     "cell_type": "markdown",
     "metadata": {},
     "source": [
      "Recap of data structures:\n",
      "1. dwellList: list of dictionaries. list index IDs dwell, dictionary contains parameters required to fully specify particular dwell\n",
      "2. sicpSlice: list of sicp calcs for each slice "
     ]
    },
    {
     "cell_type": "markdown",
     "metadata": {},
     "source": [
      "## Add steps, stopping once overall sicp converges"
     ]
    },
    {
     "cell_type": "markdown",
     "metadata": {},
     "source": [
      "Scheme:\n",
      "1. Iterate through all possible locations for new trial step\n",
      "2. *Replace* existing dwell surrounding trial location with two new dwells\n",
      "3. Calculate sicp for all possible trial locations, select location with lowest sicp\n",
      "4. If new sicp \n"
     ]
    },
    {
     "cell_type": "code",
     "collapsed": false,
     "input": [
      "def calc_sicp(proposedDwellList, sliceID): # list, list, list, int \n",
      "    '''\n",
      "    \n",
      "    '''\n",
      "    # we need to generate list of dwells in given slice\n",
      "    dwellsInSlice = [];\n",
      "    for dwell in range(len(proposedDwellList)):\n",
      "        if proposedDwellList[dwell]['slice'] == sliceID:\n",
      "            dwellsInSlice.append(proposedDwellList[dwell])\n",
      "    # generate list of position lists bounded by each dwell\n",
      "    # generate list of force lists bounded by each dwell\n",
      "    posDwell = []; forceDwell = []; numPtsDwell = []; dwellSigSq = [];\n",
      "    for dwell in range(len(dwellsInSlice)):\n",
      "        posDwell.append([trace[i]['p'] for i in range(dwellsInSlice[dwell]['sI'],dwellsInSlice[dwell]['eI'])])\n",
      "        forceDwell.append([trace[i]['f'] for i in range(dwellsInSlice[dwell]['sI'],dwellsInSlice[dwell]['eI'])])\n",
      "        numPtsDwell.append(abs(dwellsInSlice[dwell]['eI'] - dwellsInSlice[dwell]['sI']))\n",
      "        dwellSigSq.append(var(posDwell[dwell]))\n",
      "    # get (nu, So) for this particular slice\n",
      "    # print dwellsInSlice\n",
      "    n = (dwellsInSlice[-1]['eI']-dwellsInSlice[0]['sI'])\n",
      "    overallSigSq = sum([a*b for a,b in zip(numPtsDwell,dwellSigSq)])/n\n",
      "    nu = slices[sliceID]['nu']\n",
      "    So = slices[sliceID]['So']\n",
      "    d = len(dwellsInSlice)-1\n",
      "    # calculate sicp for the slice\n",
      "    sicp = 0\n",
      "    # add all components to sicp except for the # dp's per dwell in slice\n",
      "    sicp += -d*(log(2*pi)+1) + (n + nu - d - 1)*log(n*overallSigSq + So) - (n + nu - d - 3)*log(n + nu - d - 3) - log(n + nu - d - 3)\n",
      "    for dwell in range(len(dwellsInSlice)):\n",
      "        sicp += log(numPtsDwell[dwell]) # now add dp's per dwell component\n",
      "    return sicp # list of sicp's for each slice"
     ],
     "language": "python",
     "metadata": {},
     "outputs": [],
     "prompt_number": 8
    },
    {
     "cell_type": "code",
     "collapsed": false,
     "input": [
      "def trial_step(sicpList, dwellList, l): # input the list of dwells\n",
      "    '''\n",
      "    \n",
      "    '''\n",
      "    for dwell in range(0,len(dwellList)): # loop through all dwells\n",
      "        # print 'sIndex ' + str(dwellList[dwell]['sI']) + ' list item ' + str(l) + ' eIndex ' + str(dwellList[dwell]['eI'])\n",
      "        if dwellList[dwell]['sI'] < l < dwellList[dwell]['eI']: # use if statement to find which dwell to split\n",
      "            # split this dwell by adding step, calculate updated sicp\n",
      "            # then remove the original dwell\n",
      "            leftPos=[trace[i]['p'] for i in range(dwellList[dwell]['sI'], l)] # get position list only within current slice\n",
      "            rightPos=[trace[i]['p'] for i in range(l, dwellList[dwell]['eI'])] # get position list only within current slice\n",
      "            leftForce=[trace[i]['f'] for i in range(dwellList[dwell]['sI'], l)] # get force list only within current slice\n",
      "            rightForce=[trace[i]['f'] for i in range(l, dwellList[dwell]['eI'])] # get force list only within current slice\n",
      "            sliceID = dwellList[dwell]['slice'] # ID slice location of dwell we're splitting\n",
      "            proposedDwellList = list(dwellList)\n",
      "            # print 'l value: ' + str(l) + '...' + 'last dwell list position: ' + str(proposedDwellList[-1])\n",
      "            proposedDwellList.pop(dwell) # error here\n",
      "            proposedDwellList.insert(dwell,{'sI': dwellList[dwell]['sI'],'eI': l,'p': mean(leftPos),'f': mean(leftForce),'slice': sliceID})\n",
      "            proposedDwellList.insert(dwell+1,{'sI': l,'eI': dwellList[dwell]['eI'],'p': mean(rightPos),'f': mean(rightForce),'slice': sliceID})\n",
      "            sicpList.pop(sliceID) # remove the sicp from the slice we added a step in, we have to recalculate this\n",
      "            break # once you find the dwell to split and have removed the previous sicp, break from for loop\n",
      "    sicp = calc_sicp(proposedDwellList, sliceID)\n",
      "    sicpList.insert(sliceID,sicp)\n",
      "    return {'dwell list': proposedDwellList, 'sicp slice list': sicpList, 'sicp total': sum(sicpList)}"
     ],
     "language": "python",
     "metadata": {},
     "outputs": [],
     "prompt_number": 9
    },
    {
     "cell_type": "code",
     "collapsed": false,
     "input": [
      "def add_step(prevDwellList,sliceSicpList): # finds optimal location for next step\n",
      "    '''\n",
      "    \n",
      "    '''\n",
      "    existingDwellIndices = [prevDwellList[i]['sI'] for i in range(0,len(prevDwellList))]\n",
      "    output = []; trialStepSicp = []; trialDwellList = [];\n",
      "    for l in range(0,len(trace)-1): # for every point in the trace,\n",
      "        if l not in existingDwellIndices: # if it's already the location of a step, try one there\n",
      "            trialStepSicp = list(sliceSicpList)\n",
      "            trialDwellList = list(prevDwellList)\n",
      "            output.append(trial_step(trialStepSicp, trialDwellList, l)) # unfinished here, what datastructure will we append to?\n",
      "    trialLocs=output #sorted(output, key=lambda x: x['sicp']) # sort trial step locations by sicp\n",
      "    return trialLocs # return the step location that minimizes sicp"
     ],
     "language": "python",
     "metadata": {},
     "outputs": [],
     "prompt_number": 10
    },
    {
     "cell_type": "code",
     "collapsed": false,
     "input": [
      "tmp = add_step(dwellList,sicpSlice)\n",
      "dwellList = tmp[argmin([tmp[i]['sicp total'] for i in range(len(tmp))])]['dwell list']\n",
      "sicpSlice = tmp[argmin([tmp[i]['sicp total'] for i in range(len(tmp))])]['sicp slice list']"
     ],
     "language": "python",
     "metadata": {},
     "outputs": [],
     "prompt_number": 11
    },
    {
     "cell_type": "code",
     "collapsed": false,
     "input": [
      "print dwellList\n",
      "print sicpSlice"
     ],
     "language": "python",
     "metadata": {},
     "outputs": [
      {
       "output_type": "stream",
       "stream": "stdout",
       "text": [
        "[{'p': 11.292827175439101, 'sI': 0, 'slice': 0, 'eI': 2455, 'f': 1.4116033969298876}, {'p': 18.466519347095112, 'sI': 2455, 'slice': 1, 'eI': 4650, 'f': 2.308314918386889}, {'p': 25.407026017919858, 'sI': 4650, 'slice': 2, 'eI': 6586, 'f': 3.1758782522399822}, {'p': 29.84647553259461, 'sI': 6586, 'slice': 2, 'eI': 8047, 'f': 3.7308094415743263}, {'p': 35.927729647918056, 'sI': 8047, 'slice': 3, 'eI': 8877, 'f': 4.490966205989757}, {'p': 41.999976841053311, 'sI': 8877, 'slice': 4, 'eI': 9999, 'f': 5.2499971051316638}]\n",
        "[5629.6191384169952, 2297.8560854135908, 3360.6981411616307, 894.61452604258488, 1300.5827832207133]\n"
       ]
      }
     ],
     "prompt_number": 14
    },
    {
     "cell_type": "code",
     "collapsed": false,
     "input": [
      "tmp = add_step(dwellList,sicpSlice)\n",
      "dwellList = tmp[argmin([tmp[i]['sicp total'] for i in range(len(tmp))])]['dwell list']\n",
      "sicpSlice = tmp[argmin([tmp[i]['sicp total'] for i in range(len(tmp))])]['sicp slice list']"
     ],
     "language": "python",
     "metadata": {},
     "outputs": [],
     "prompt_number": 15
    },
    {
     "cell_type": "code",
     "collapsed": false,
     "input": [
      "print dwellList\n",
      "print sicpSlice"
     ],
     "language": "python",
     "metadata": {},
     "outputs": [
      {
       "output_type": "stream",
       "stream": "stdout",
       "text": [
        "[{'p': 8.2678730765275912, 'sI': 0, 'slice': 0, 'eI': 1063, 'f': 1.0334841345659489}, {'p': 13.602831634593491, 'sI': 1063, 'slice': 0, 'eI': 2455, 'f': 1.7003539543241863}, {'p': 18.466519347095112, 'sI': 2455, 'slice': 1, 'eI': 4650, 'f': 2.308314918386889}, {'p': 25.407026017919858, 'sI': 4650, 'slice': 2, 'eI': 6586, 'f': 3.1758782522399822}, {'p': 29.84647553259461, 'sI': 6586, 'slice': 2, 'eI': 8047, 'f': 3.7308094415743263}, {'p': 35.927729647918056, 'sI': 8047, 'slice': 3, 'eI': 8877, 'f': 4.490966205989757}, {'p': 41.999976841053311, 'sI': 8877, 'slice': 4, 'eI': 9999, 'f': 5.2499971051316638}]\n",
        "[2594.4201036225795, 2297.8560854135908, 3360.6981411616307, 894.61452604258488, 1300.5827832207133]\n"
       ]
      }
     ],
     "prompt_number": 16
    },
    {
     "cell_type": "code",
     "collapsed": false,
     "input": [
      "tmp = add_step(dwellList,sicpSlice)\n",
      "dwellList = tmp[argmin([tmp[i]['sicp total'] for i in range(len(tmp))])]['dwell list']\n",
      "sicpSlice = tmp[argmin([tmp[i]['sicp total'] for i in range(len(tmp))])]['sicp slice list']"
     ],
     "language": "python",
     "metadata": {},
     "outputs": [],
     "prompt_number": 17
    },
    {
     "cell_type": "code",
     "collapsed": false,
     "input": [
      "print dwellList\n",
      "print sicpSlice"
     ],
     "language": "python",
     "metadata": {},
     "outputs": [
      {
       "output_type": "stream",
       "stream": "stdout",
       "text": [
        "[{'p': 8.2678730765275912, 'sI': 0, 'slice': 0, 'eI': 1063, 'f': 1.0334841345659489}, {'p': 13.602831634593491, 'sI': 1063, 'slice': 0, 'eI': 2455, 'f': 1.7003539543241863}, {'p': 17.931765316684572, 'sI': 2455, 'slice': 1, 'eI': 4322, 'f': 2.2414706645855715}, {'p': 21.510378416535552, 'sI': 4322, 'slice': 1, 'eI': 4650, 'f': 2.688797302066944}, {'p': 25.407026017919858, 'sI': 4650, 'slice': 2, 'eI': 6586, 'f': 3.1758782522399822}, {'p': 29.84647553259461, 'sI': 6586, 'slice': 2, 'eI': 8047, 'f': 3.7308094415743263}, {'p': 35.927729647918056, 'sI': 8047, 'slice': 3, 'eI': 8877, 'f': 4.490966205989757}, {'p': 41.999976841053311, 'sI': 8877, 'slice': 4, 'eI': 9999, 'f': 5.2499971051316638}]\n",
        "[2594.4201036225795, 419.35576734686833, 3360.6981411616307, 894.61452604258488, 1300.5827832207133]\n"
       ]
      }
     ],
     "prompt_number": 18
    },
    {
     "cell_type": "code",
     "collapsed": false,
     "input": [
      "tmp = add_step(dwellList,sicpSlice)\n",
      "dwellList = tmp[argmin([tmp[i]['sicp total'] for i in range(len(tmp))])]['dwell list']\n",
      "sicpSlice = tmp[argmin([tmp[i]['sicp total'] for i in range(len(tmp))])]['sicp slice list']"
     ],
     "language": "python",
     "metadata": {},
     "outputs": [],
     "prompt_number": 19
    },
    {
     "cell_type": "code",
     "collapsed": false,
     "input": [
      "print dwellList\n",
      "print sicpSlice"
     ],
     "language": "python",
     "metadata": {},
     "outputs": [
      {
       "output_type": "stream",
       "stream": "stdout",
       "text": [
        "[{'p': 8.2678730765275912, 'sI': 0, 'slice': 0, 'eI': 1063, 'f': 1.0334841345659489}, {'p': 13.602831634593491, 'sI': 1063, 'slice': 0, 'eI': 2455, 'f': 1.7003539543241863}, {'p': 17.931765316684572, 'sI': 2455, 'slice': 1, 'eI': 4322, 'f': 2.2414706645855715}, {'p': 21.510378416535552, 'sI': 4322, 'slice': 1, 'eI': 4650, 'f': 2.688797302066944}, {'p': 23.67178701018743, 'sI': 4650, 'slice': 2, 'eI': 5231, 'f': 2.9589733762734287}, {'p': 26.15106576957502, 'sI': 5231, 'slice': 2, 'eI': 6586, 'f': 3.2688832211968775}, {'p': 29.84647553259461, 'sI': 6586, 'slice': 2, 'eI': 8047, 'f': 3.7308094415743263}, {'p': 35.927729647918056, 'sI': 8047, 'slice': 3, 'eI': 8877, 'f': 4.490966205989757}, {'p': 41.999976841053311, 'sI': 8877, 'slice': 4, 'eI': 9999, 'f': 5.2499971051316638}]\n",
        "[2594.4201036225795, 419.35576734686833, 2270.6049242420886, 894.61452604258488, 1300.5827832207133]\n"
       ]
      }
     ],
     "prompt_number": 20
    },
    {
     "cell_type": "code",
     "collapsed": false,
     "input": [
      "tmp = add_step(dwellList,sicpSlice)\n",
      "dwellList = tmp[argmin([tmp[i]['sicp total'] for i in range(len(tmp))])]['dwell list']\n",
      "sicpSlice = tmp[argmin([tmp[i]['sicp total'] for i in range(len(tmp))])]['sicp slice list']"
     ],
     "language": "python",
     "metadata": {},
     "outputs": [],
     "prompt_number": 21
    },
    {
     "cell_type": "code",
     "collapsed": false,
     "input": [
      "print dwellList\n",
      "print sicpSlice"
     ],
     "language": "python",
     "metadata": {},
     "outputs": [
      {
       "output_type": "stream",
       "stream": "stdout",
       "text": [
        "[{'p': 8.2678730765275912, 'sI': 0, 'slice': 0, 'eI': 1063, 'f': 1.0334841345659489}, {'p': 13.602831634593491, 'sI': 1063, 'slice': 0, 'eI': 2455, 'f': 1.7003539543241863}, {'p': 17.931765316684572, 'sI': 2455, 'slice': 1, 'eI': 4322, 'f': 2.2414706645855715}, {'p': 21.510378416535552, 'sI': 4322, 'slice': 1, 'eI': 4650, 'f': 2.688797302066944}, {'p': 23.67178701018743, 'sI': 4650, 'slice': 2, 'eI': 5231, 'f': 2.9589733762734287}, {'p': 26.15106576957502, 'sI': 5231, 'slice': 2, 'eI': 6586, 'f': 3.2688832211968775}, {'p': 29.312559470239567, 'sI': 6586, 'slice': 2, 'eI': 7769, 'f': 3.6640699337799458}, {'p': 32.118499639666652, 'sI': 7769, 'slice': 2, 'eI': 8047, 'f': 4.0148124549583315}, {'p': 35.927729647918056, 'sI': 8047, 'slice': 3, 'eI': 8877, 'f': 4.490966205989757}, {'p': 41.999976841053311, 'sI': 8877, 'slice': 4, 'eI': 9999, 'f': 5.2499971051316638}]\n",
        "[2594.4201036225795, 419.35576734686833, 1208.1474533087678, 894.61452604258488, 1300.5827832207133]\n"
       ]
      }
     ],
     "prompt_number": 22
    },
    {
     "cell_type": "code",
     "collapsed": false,
     "input": [
      "tmp = add_step(dwellList,sicpSlice)\n",
      "dwellList = tmp[argmin([tmp[i]['sicp total'] for i in range(len(tmp))])]['dwell list']\n",
      "sicpSlice = tmp[argmin([tmp[i]['sicp total'] for i in range(len(tmp))])]['sicp slice list']"
     ],
     "language": "python",
     "metadata": {},
     "outputs": [],
     "prompt_number": 23
    },
    {
     "cell_type": "code",
     "collapsed": false,
     "input": [
      "print dwellList\n",
      "print sicpSlice"
     ],
     "language": "python",
     "metadata": {},
     "outputs": [
      {
       "output_type": "stream",
       "stream": "stdout",
       "text": [
        "[{'p': 8.2678730765275912, 'sI': 0, 'slice': 0, 'eI': 1063, 'f': 1.0334841345659489}, {'p': 13.602831634593491, 'sI': 1063, 'slice': 0, 'eI': 2455, 'f': 1.7003539543241863}, {'p': 17.931765316684572, 'sI': 2455, 'slice': 1, 'eI': 4322, 'f': 2.2414706645855715}, {'p': 21.510378416535552, 'sI': 4322, 'slice': 1, 'eI': 4650, 'f': 2.688797302066944}, {'p': 23.67178701018743, 'sI': 4650, 'slice': 2, 'eI': 5231, 'f': 2.9589733762734287}, {'p': 26.15106576957502, 'sI': 5231, 'slice': 2, 'eI': 6586, 'f': 3.2688832211968775}, {'p': 29.312559470239567, 'sI': 6586, 'slice': 2, 'eI': 7769, 'f': 3.6640699337799458}, {'p': 32.118499639666652, 'sI': 7769, 'slice': 2, 'eI': 8047, 'f': 4.0148124549583315}, {'p': 35.927729647918056, 'sI': 8047, 'slice': 3, 'eI': 8877, 'f': 4.490966205989757}, {'p': 39.405459938491639, 'sI': 8877, 'slice': 4, 'eI': 9120, 'f': 4.9256824923114548}, {'p': 42.717232367017466, 'sI': 9120, 'slice': 4, 'eI': 9999, 'f': 5.3396540458771833}]\n",
        "[2594.4201036225795, 419.35576734686833, 1208.1474533087678, 894.61452604258488, 298.24061975191512]\n"
       ]
      }
     ],
     "prompt_number": 24
    },
    {
     "cell_type": "code",
     "collapsed": false,
     "input": [
      "tmp = add_step(dwellList,sicpSlice)\n",
      "dwellList = tmp[argmin([tmp[i]['sicp total'] for i in range(len(tmp))])]['dwell list']\n",
      "sicpSlice = tmp[argmin([tmp[i]['sicp total'] for i in range(len(tmp))])]['sicp slice list']"
     ],
     "language": "python",
     "metadata": {},
     "outputs": [],
     "prompt_number": 25
    },
    {
     "cell_type": "code",
     "collapsed": false,
     "input": [
      "print dwellList\n",
      "print sicpSlice"
     ],
     "language": "python",
     "metadata": {},
     "outputs": [
      {
       "output_type": "stream",
       "stream": "stdout",
       "text": [
        "[{'p': 7.1075149130662805, 'sI': 0, 'slice': 0, 'eI': 642, 'f': 0.88843936413328506}, {'p': 10.037350370927022, 'sI': 642, 'slice': 0, 'eI': 1063, 'f': 1.2546687963658778}, {'p': 13.602831634593491, 'sI': 1063, 'slice': 0, 'eI': 2455, 'f': 1.7003539543241863}, {'p': 17.931765316684572, 'sI': 2455, 'slice': 1, 'eI': 4322, 'f': 2.2414706645855715}, {'p': 21.510378416535552, 'sI': 4322, 'slice': 1, 'eI': 4650, 'f': 2.688797302066944}, {'p': 23.67178701018743, 'sI': 4650, 'slice': 2, 'eI': 5231, 'f': 2.9589733762734287}, {'p': 26.15106576957502, 'sI': 5231, 'slice': 2, 'eI': 6586, 'f': 3.2688832211968775}, {'p': 29.312559470239567, 'sI': 6586, 'slice': 2, 'eI': 7769, 'f': 3.6640699337799458}, {'p': 32.118499639666652, 'sI': 7769, 'slice': 2, 'eI': 8047, 'f': 4.0148124549583315}, {'p': 35.927729647918056, 'sI': 8047, 'slice': 3, 'eI': 8877, 'f': 4.490966205989757}, {'p': 39.405459938491639, 'sI': 8877, 'slice': 4, 'eI': 9120, 'f': 4.9256824923114548}, {'p': 42.717232367017466, 'sI': 9120, 'slice': 4, 'eI': 9999, 'f': 5.3396540458771833}]\n",
        "[1681.2957449834785, 419.35576734686833, 1208.1474533087678, 894.61452604258488, 298.24061975191512]\n"
       ]
      }
     ],
     "prompt_number": 26
    },
    {
     "cell_type": "code",
     "collapsed": false,
     "input": [
      "tmp = add_step(dwellList,sicpSlice)\n",
      "dwellList = tmp[argmin([tmp[i]['sicp total'] for i in range(len(tmp))])]['dwell list']\n",
      "sicpSlice = tmp[argmin([tmp[i]['sicp total'] for i in range(len(tmp))])]['sicp slice list']"
     ],
     "language": "python",
     "metadata": {},
     "outputs": [],
     "prompt_number": 27
    },
    {
     "cell_type": "code",
     "collapsed": false,
     "input": [
      "print dwellList\n",
      "print sicpSlice"
     ],
     "language": "python",
     "metadata": {},
     "outputs": [
      {
       "output_type": "stream",
       "stream": "stdout",
       "text": [
        "[{'p': 7.1075149130662805, 'sI': 0, 'slice': 0, 'eI': 642, 'f': 0.88843936413328506}, {'p': 10.037350370927022, 'sI': 642, 'slice': 0, 'eI': 1063, 'f': 1.2546687963658778}, {'p': 12.829220794061392, 'sI': 1063, 'slice': 0, 'eI': 2064, 'f': 1.603652599257674}, {'p': 15.583354528129647, 'sI': 2064, 'slice': 0, 'eI': 2455, 'f': 1.9479193160162058}, {'p': 17.931765316684572, 'sI': 2455, 'slice': 1, 'eI': 4322, 'f': 2.2414706645855715}, {'p': 21.510378416535552, 'sI': 4322, 'slice': 1, 'eI': 4650, 'f': 2.688797302066944}, {'p': 23.67178701018743, 'sI': 4650, 'slice': 2, 'eI': 5231, 'f': 2.9589733762734287}, {'p': 26.15106576957502, 'sI': 5231, 'slice': 2, 'eI': 6586, 'f': 3.2688832211968775}, {'p': 29.312559470239567, 'sI': 6586, 'slice': 2, 'eI': 7769, 'f': 3.6640699337799458}, {'p': 32.118499639666652, 'sI': 7769, 'slice': 2, 'eI': 8047, 'f': 4.0148124549583315}, {'p': 35.927729647918056, 'sI': 8047, 'slice': 3, 'eI': 8877, 'f': 4.490966205989757}, {'p': 39.405459938491639, 'sI': 8877, 'slice': 4, 'eI': 9120, 'f': 4.9256824923114548}, {'p': 42.717232367017466, 'sI': 9120, 'slice': 4, 'eI': 9999, 'f': 5.3396540458771833}]\n",
        "[252.55150297840137, 419.35576734686833, 1208.1474533087678, 894.61452604258488, 298.24061975191512]\n"
       ]
      }
     ],
     "prompt_number": 28
    },
    {
     "cell_type": "code",
     "collapsed": false,
     "input": [
      "tmp = add_step(dwellList,sicpSlice)\n",
      "dwellList = tmp[argmin([tmp[i]['sicp total'] for i in range(len(tmp))])]['dwell list']\n",
      "sicpSlice = tmp[argmin([tmp[i]['sicp total'] for i in range(len(tmp))])]['sicp slice list']"
     ],
     "language": "python",
     "metadata": {},
     "outputs": [],
     "prompt_number": 29
    },
    {
     "cell_type": "code",
     "collapsed": false,
     "input": [
      "print dwellList\n",
      "print sicpSlice"
     ],
     "language": "python",
     "metadata": {},
     "outputs": [
      {
       "output_type": "stream",
       "stream": "stdout",
       "text": [
        "[{'p': 7.1075149130662805, 'sI': 0, 'slice': 0, 'eI': 642, 'f': 0.88843936413328506}, {'p': 10.037350370927022, 'sI': 642, 'slice': 0, 'eI': 1063, 'f': 1.2546687963658778}, {'p': 12.829220794061392, 'sI': 1063, 'slice': 0, 'eI': 2064, 'f': 1.603652599257674}, {'p': 15.583354528129647, 'sI': 2064, 'slice': 0, 'eI': 2455, 'f': 1.9479193160162058}, {'p': 17.931765316684572, 'sI': 2455, 'slice': 1, 'eI': 4322, 'f': 2.2414706645855715}, {'p': 21.510378416535552, 'sI': 4322, 'slice': 1, 'eI': 4650, 'f': 2.688797302066944}, {'p': 23.67178701018743, 'sI': 4650, 'slice': 2, 'eI': 5231, 'f': 2.9589733762734287}, {'p': 26.15106576957502, 'sI': 5231, 'slice': 2, 'eI': 6586, 'f': 3.2688832211968775}, {'p': 28.617136803690837, 'sI': 6586, 'slice': 2, 'eI': 7198, 'f': 3.5771421004613546}, {'p': 30.057916163633308, 'sI': 7198, 'slice': 2, 'eI': 7769, 'f': 3.7572395204541635}, {'p': 32.118499639666652, 'sI': 7769, 'slice': 2, 'eI': 8047, 'f': 4.0148124549583315}, {'p': 35.927729647918056, 'sI': 8047, 'slice': 3, 'eI': 8877, 'f': 4.490966205989757}, {'p': 39.405459938491639, 'sI': 8877, 'slice': 4, 'eI': 9120, 'f': 4.9256824923114548}, {'p': 42.717232367017466, 'sI': 9120, 'slice': 4, 'eI': 9999, 'f': 5.3396540458771833}]\n",
        "[252.55150297840137, 419.35576734686833, 748.50930900981007, 894.61452604258488, 298.24061975191512]\n"
       ]
      }
     ],
     "prompt_number": 30
    },
    {
     "cell_type": "markdown",
     "metadata": {},
     "source": [
      "Let's take this current fit and plot it on top of the trace."
     ]
    },
    {
     "cell_type": "code",
     "collapsed": false,
     "input": [
      "a=[dwellList[i]['sI'] for i in range(len(dwellList))]\n",
      "b=[dwellList[i]['eI'] for i in range(len(dwellList))]\n",
      "x = [item for sublist in zip(a,b) for item in sublist]\n",
      "print x"
     ],
     "language": "python",
     "metadata": {},
     "outputs": [
      {
       "output_type": "stream",
       "stream": "stdout",
       "text": [
        "[0, 642, 642, 1063, 1063, 2064, 2064, 2455, 2455, 4322, 4322, 4650, 4650, 5231, 5231, 6586, 6586, 7198, 7198, 7769, 7769, 8047, 8047, 8877, 8877, 9120, 9120, 9999]\n"
       ]
      }
     ],
     "prompt_number": 37
    },
    {
     "cell_type": "code",
     "collapsed": false,
     "input": [
      "a=[dwellList[i]['f'] for i in range(len(dwellList))]\n",
      "y = [item for sublist in zip(a,a) for item in sublist]\n",
      "print y"
     ],
     "language": "python",
     "metadata": {},
     "outputs": [
      {
       "output_type": "stream",
       "stream": "stdout",
       "text": [
        "[0.88843936413328506, 0.88843936413328506, 1.2546687963658778, 1.2546687963658778, 1.603652599257674, 1.603652599257674, 1.9479193160162058, 1.9479193160162058, 2.2414706645855715, 2.2414706645855715, 2.688797302066944, 2.688797302066944, 2.9589733762734287, 2.9589733762734287, 3.2688832211968775, 3.2688832211968775, 3.5771421004613546, 3.5771421004613546, 3.7572395204541635, 3.7572395204541635, 4.0148124549583315, 4.0148124549583315, 4.490966205989757, 4.490966205989757, 4.9256824923114548, 4.9256824923114548, 5.3396540458771833, 5.3396540458771833]\n"
       ]
      }
     ],
     "prompt_number": 39
    },
    {
     "cell_type": "code",
     "collapsed": false,
     "input": [
      "plot([trace[i]['f'] for i in range(0,len(trace))]); title('Original Trace',fontsize=30);\n",
      "xlabel('$t$', fontsize=30); ylabel('force', style='italic', fontsize=30); tick_params(labelsize=25);\n",
      "plot(x,y,linewidth=2.0);"
     ],
     "language": "python",
     "metadata": {},
     "outputs": [
      {
       "metadata": {},
       "output_type": "display_data",
       "png": "[encoded data removed]",
       "text": [
        "<matplotlib.figure.Figure at 0x7f9b26d54790>"
       ]
      }
     ],
     "prompt_number": 44
    },
    {
     "cell_type": "code",
     "collapsed": false,
     "input": [],
     "language": "python",
     "metadata": {},
     "outputs": []
    }
   ],
   "metadata": {}
  }
 ]
}